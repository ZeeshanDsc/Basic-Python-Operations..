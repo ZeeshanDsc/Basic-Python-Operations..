{
 "cells": [
  {
   "cell_type": "code",
   "execution_count": 3,
   "metadata": {},
   "outputs": [
    {
     "name": "stdout",
     "output_type": "stream",
     "text": [
      "enter number153\n",
      "this is an armstrong number\n"
     ]
    }
   ],
   "source": [
    "x=int(input(\"enter number\"))\n",
    "sum=0\n",
    "temp=x\n",
    "n=len(str(x))\n",
    "while temp>0:\n",
    "    digit=temp%10\n",
    "    sum= sum+digit**n  #or sum+=digit**n\n",
    "    temp//=10\n",
    "if x==sum:\n",
    "    print(\"this is an armstrong number\")\n",
    "else:\n",
    "    print(\"this is not an armstrong number\")\n",
    "    "
   ]
  },
  {
   "cell_type": "code",
   "execution_count": 5,
   "metadata": {},
   "outputs": [
    {
     "name": "stdout",
     "output_type": "stream",
     "text": [
      "enter the number : 9474\n",
      "this is an armstrong number\n"
     ]
    }
   ],
   "source": [
    "x = int(input(\"enter the number : \"))\n",
    "sum=0\n",
    "temp=x\n",
    "n=len(str(x))\n",
    "\n",
    "while temp>0 :\n",
    "    result = temp%10\n",
    "    sum= sum+result**n\n",
    "    temp//=10\n",
    "if x==sum:\n",
    "    print(\"this is an armstrong number\")\n",
    "else:\n",
    "    print(\"this is not an armstrong number\")"
   ]
  },
  {
   "cell_type": "code",
   "execution_count": null,
   "metadata": {},
   "outputs": [],
   "source": []
  }
 ],
 "metadata": {
  "kernelspec": {
   "display_name": "Python 3",
   "language": "python",
   "name": "python3"
  },
  "language_info": {
   "codemirror_mode": {
    "name": "ipython",
    "version": 3
   },
   "file_extension": ".py",
   "mimetype": "text/x-python",
   "name": "python",
   "nbconvert_exporter": "python",
   "pygments_lexer": "ipython3",
   "version": "3.7.3"
  }
 },
 "nbformat": 4,
 "nbformat_minor": 2
}
