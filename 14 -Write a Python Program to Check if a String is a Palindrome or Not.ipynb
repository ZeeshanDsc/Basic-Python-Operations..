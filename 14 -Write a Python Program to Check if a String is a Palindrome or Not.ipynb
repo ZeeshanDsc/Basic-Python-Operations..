{
 "cells": [
  {
   "cell_type": "code",
   "execution_count": 3,
   "metadata": {},
   "outputs": [
    {
     "name": "stdout",
     "output_type": "stream",
     "text": [
      "Please enter the string : asd\n",
      "dsa\n",
      "This given strong is not a palindrome.\n"
     ]
    }
   ],
   "source": [
    "str = input(\"Please enter the string : \")\n",
    "str=str.casefold() #to make this strong non cae sensitive\n",
    "reverse= str[::-1]\n",
    "print(reverse)\n",
    "if str == reverse:\n",
    "    print(\"This given string is a palindrome.\")\n",
    "else:\n",
    "    print(\"This given strong is not a palindrome.\")"
   ]
  },
  {
   "cell_type": "code",
   "execution_count": null,
   "metadata": {},
   "outputs": [],
   "source": []
  }
 ],
 "metadata": {
  "kernelspec": {
   "display_name": "Python 3",
   "language": "python",
   "name": "python3"
  },
  "language_info": {
   "codemirror_mode": {
    "name": "ipython",
    "version": 3
   },
   "file_extension": ".py",
   "mimetype": "text/x-python",
   "name": "python",
   "nbconvert_exporter": "python",
   "pygments_lexer": "ipython3",
   "version": "3.7.3"
  }
 },
 "nbformat": 4,
 "nbformat_minor": 2
}
