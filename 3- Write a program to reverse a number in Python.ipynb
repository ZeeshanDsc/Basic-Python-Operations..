{
 "cells": [
  {
   "cell_type": "code",
   "execution_count": null,
   "metadata": {},
   "outputs": [],
   "source": [
    "input_num= int(input(\"please enter the number = \"))\n",
    "reverse=0\n",
    "while(input_num > 0):\n",
    "    remainder = input_num % 10   #modulus\n",
    "    reverse = (reverse * 10) + remainder\n",
    "    input_num= input_num // 10   #float division\n",
    "    \n",
    "print(reverse)\n"
   ]
  }
 ],
 "metadata": {
  "kernelspec": {
   "display_name": "Python 3",
   "language": "python",
   "name": "python3"
  },
  "language_info": {
   "codemirror_mode": {
    "name": "ipython",
    "version": 3
   },
   "file_extension": ".py",
   "mimetype": "text/x-python",
   "name": "python",
   "nbconvert_exporter": "python",
   "pygments_lexer": "ipython3",
   "version": "3.7.3"
  }
 },
 "nbformat": 4,
 "nbformat_minor": 2
}
