{
 "cells": [
  {
   "cell_type": "code",
   "execution_count": 1,
   "metadata": {},
   "outputs": [
    {
     "name": "stdout",
     "output_type": "stream",
     "text": [
      "enter the first string :My name is Zee\n",
      "enter the second string :I am from nowhere\n",
      "Hence the common letter are: \n",
      " \n",
      "n\n",
      "a\n",
      "m\n",
      "e\n",
      "i\n"
     ]
    }
   ],
   "source": [
    "str_1= input(\"enter the first string :\")\n",
    "str_2= input(\"enter the second string :\")\n",
    "str_1=str_1.casefold()\n",
    "str_2=str_2.casefold()\n",
    "sets=list(set(str_1)&set(str_2))\n",
    "print(\"Hence the common letter are: \")\n",
    "for i in sets:\n",
    "    print(i)"
   ]
  },
  {
   "cell_type": "code",
   "execution_count": null,
   "metadata": {},
   "outputs": [],
   "source": []
  }
 ],
 "metadata": {
  "kernelspec": {
   "display_name": "Python 3",
   "language": "python",
   "name": "python3"
  },
  "language_info": {
   "codemirror_mode": {
    "name": "ipython",
    "version": 3
   },
   "file_extension": ".py",
   "mimetype": "text/x-python",
   "name": "python",
   "nbconvert_exporter": "python",
   "pygments_lexer": "ipython3",
   "version": "3.7.3"
  }
 },
 "nbformat": 4,
 "nbformat_minor": 2
}
