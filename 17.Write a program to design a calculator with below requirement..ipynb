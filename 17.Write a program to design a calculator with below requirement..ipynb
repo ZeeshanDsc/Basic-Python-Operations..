{
 "cells": [
  {
   "cell_type": "code",
   "execution_count": 1,
   "metadata": {},
   "outputs": [
    {
     "name": "stdout",
     "output_type": "stream",
     "text": [
      "Hi there, please tell me your name: Zeeshan\n",
      "Welcome  Zeeshan\n"
     ]
    }
   ],
   "source": [
    "name = input(\"Hi there, please tell me your name: \")\n",
    "print(\"Welcome \", name)\n",
    "\n",
    "def calculator():\n",
    "    num1 = int(input(\"Enter 1st number\"))\n",
    "    operator = input(\"please enter + for addition, - for subtraction, * for multiplication, / for division\")\n",
    "    num2 = int(input(\"Enter 2nd number\"))\n",
    "    if operator == '+':\n",
    "        print(\"your answer is: \",num1+num2)\n",
    "    elif operator == '-':\n",
    "        print(\"your answer is: \",num1-num2)\n",
    "    elif operator == '*':\n",
    "        print(\"your answer is: \",num1*num2)\n",
    "    elif operator == '/':\n",
    "        print(\"your answer is: \",num1/num2)\n",
    "    else:\n",
    "        print(\"please enter valid operator\")\n",
    "    calc()\n",
    "    \n",
    "def calc():\n",
    "    perm = input(\"Hi \" +name+ \" Please press c to continue or press x to exit: \")\n",
    "    if perm == 'c':\n",
    "        calculator()\n",
    "    elif perm == 'x':\n",
    "        print(\"Thank you \"+name +\" for using calculator, you have a nice day\")\n",
    "    else:\n",
    "        again()"
   ]
  },
  {
   "cell_type": "code",
   "execution_count": 3,
   "metadata": {},
   "outputs": [
    {
     "name": "stdout",
     "output_type": "stream",
     "text": [
      "Enter 1st number45\n",
      "please enter + for addition, - for subtraction, * for multiplication, / for division+\n",
      "Enter 2nd number78\n",
      "your answer is:  123\n",
      "Hi Zeeshan Please press c to continue or press x to exit: c\n",
      "Enter 1st number78\n",
      "please enter + for addition, - for subtraction, * for multiplication, / for division56\n",
      "Enter 2nd number64\n",
      "please enter valid operator\n",
      "Hi Zeeshan Please press c to continue or press x to exit: x\n",
      "Thank you Zeeshan for using calculator, you have a nice day\n"
     ]
    }
   ],
   "source": [
    "calculator()"
   ]
  },
  {
   "cell_type": "code",
   "execution_count": null,
   "metadata": {},
   "outputs": [],
   "source": []
  }
 ],
 "metadata": {
  "kernelspec": {
   "display_name": "Python 3",
   "language": "python",
   "name": "python3"
  },
  "language_info": {
   "codemirror_mode": {
    "name": "ipython",
    "version": 3
   },
   "file_extension": ".py",
   "mimetype": "text/x-python",
   "name": "python",
   "nbconvert_exporter": "python",
   "pygments_lexer": "ipython3",
   "version": "3.7.3"
  }
 },
 "nbformat": 4,
 "nbformat_minor": 2
}
