{
 "cells": [
  {
   "cell_type": "code",
   "execution_count": null,
   "metadata": {},
   "outputs": [],
   "source": [
    "a=list()\n",
    "x= int(input(\"enter the length of list\"))\n",
    "for i in range(x):\n",
    "    y= int(input(\"enter the number= \"))\n",
    "    a.append(int(y))\n",
    "print(a)\n",
    "sum=0\n",
    "for l in a:\n",
    "    \n",
    "    sum=sum+l\n",
    "print(sum)\n",
    "average= sum/x\n",
    "print(average)\n"
   ]
  }
 ],
 "metadata": {
  "kernelspec": {
   "display_name": "Python 3",
   "language": "python",
   "name": "python3"
  },
  "language_info": {
   "codemirror_mode": {
    "name": "ipython",
    "version": 3
   },
   "file_extension": ".py",
   "mimetype": "text/x-python",
   "name": "python",
   "nbconvert_exporter": "python",
   "pygments_lexer": "ipython3",
   "version": "3.7.3"
  }
 },
 "nbformat": 4,
 "nbformat_minor": 2
}
