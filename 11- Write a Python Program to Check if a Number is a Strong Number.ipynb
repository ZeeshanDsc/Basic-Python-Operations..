{
 "cells": [
  {
   "cell_type": "code",
   "execution_count": 7,
   "metadata": {},
   "outputs": [
    {
     "name": "stdout",
     "output_type": "stream",
     "text": [
      "enter the number: 145\n",
      "145 is a strong number !\n"
     ]
    }
   ],
   "source": [
    "num = int(input(\"enter the number: \"))\n",
    "sum=0\n",
    "temp = num\n",
    "while(num):\n",
    "    f=1\n",
    "    rem=num%10\n",
    "    for i in range(1,rem+1):\n",
    "        f=f*i\n",
    "    sum=sum+f\n",
    "    num=num//10\n",
    "if (sum==temp):\n",
    "    print(temp, \"is a strong number !\")\n",
    "else:\n",
    "    print(temp, \"is not a strong number !\")\n",
    "        "
   ]
  },
  {
   "cell_type": "code",
   "execution_count": null,
   "metadata": {},
   "outputs": [],
   "source": []
  }
 ],
 "metadata": {
  "kernelspec": {
   "display_name": "Python 3",
   "language": "python",
   "name": "python3"
  },
  "language_info": {
   "codemirror_mode": {
    "name": "ipython",
    "version": 3
   },
   "file_extension": ".py",
   "mimetype": "text/x-python",
   "name": "python",
   "nbconvert_exporter": "python",
   "pygments_lexer": "ipython3",
   "version": "3.7.3"
  }
 },
 "nbformat": 4,
 "nbformat_minor": 2
}
