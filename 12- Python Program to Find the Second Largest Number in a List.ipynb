{
 "cells": [
  {
   "cell_type": "code",
   "execution_count": 2,
   "metadata": {},
   "outputs": [
    {
     "name": "stdout",
     "output_type": "stream",
     "text": [
      "enter the number of elements in the list: 12\n",
      "enter the element : 11111\n",
      "enter the element : 123\n",
      "enter the element : 131\n",
      "enter the element : 1536262\n",
      "enter the element : 124352\n",
      "enter the element : 44543463\n",
      "enter the element : 234252\n",
      "enter the element : 3242\n",
      "enter the element : 25524\n",
      "enter the element : 346346\n",
      "enter the element : 346363\n",
      "enter the element : 3463543\n",
      "The second largest element in the list is: 3463543\n"
     ]
    }
   ],
   "source": [
    "x = int(input(\"enter the number of elements in the list: \"))\n",
    "lst= []\n",
    "for i in range(1, x+1):\n",
    "    elem = int(input(\"enter the element : \"))\n",
    "    lst.append(elem)\n",
    "lst.sort()\n",
    "print(\"The second largest element in the list is:\", lst[-2])"
   ]
  },
  {
   "cell_type": "markdown",
   "metadata": {},
   "source": []
  }
 ],
 "metadata": {
  "kernelspec": {
   "display_name": "Python 3",
   "language": "python",
   "name": "python3"
  },
  "language_info": {
   "codemirror_mode": {
    "name": "ipython",
    "version": 3
   },
   "file_extension": ".py",
   "mimetype": "text/x-python",
   "name": "python",
   "nbconvert_exporter": "python",
   "pygments_lexer": "ipython3",
   "version": "3.7.3"
  }
 },
 "nbformat": 4,
 "nbformat_minor": 2
}
