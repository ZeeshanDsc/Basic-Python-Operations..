{
 "cells": [
  {
   "cell_type": "code",
   "execution_count": 3,
   "metadata": {},
   "outputs": [
    {
     "name": "stdout",
     "output_type": "stream",
     "text": [
      "enter the number of elements: 4\n",
      "enter the elements: 12\n",
      "enter the elements: 15\n",
      "enter the elements: 16\n",
      "enter the elements: 87\n",
      "[12, 15, 16, 87] : this is the list before swapping\n",
      "[87, 15, 16, 12] : this is the list after swapping\n"
     ]
    }
   ],
   "source": [
    "lst = []\n",
    "n = int(input(\"enter the number of elements: \"))\n",
    "for i in range(1, n+1):\n",
    "    elem=int(input(\"enter the elements: \"))\n",
    "    lst.append(elem)\n",
    "print(lst, \": this is the list before swapping\")\n",
    "temp=lst[0]  #saving zeroth element in a variabe temp\n",
    "lst[0]=lst[-1] #now saving last element value at zeroth position.\n",
    "lst[-1]=temp  #now saving zeroth element value at last position.\n",
    "print(lst, \": this is the list after swapping\")"
   ]
  },
  {
   "cell_type": "code",
   "execution_count": null,
   "metadata": {},
   "outputs": [],
   "source": []
  }
 ],
 "metadata": {
  "kernelspec": {
   "display_name": "Python 3",
   "language": "python",
   "name": "python3"
  },
  "language_info": {
   "codemirror_mode": {
    "name": "ipython",
    "version": 3
   },
   "file_extension": ".py",
   "mimetype": "text/x-python",
   "name": "python",
   "nbconvert_exporter": "python",
   "pygments_lexer": "ipython3",
   "version": "3.7.3"
  }
 },
 "nbformat": 4,
 "nbformat_minor": 2
}
